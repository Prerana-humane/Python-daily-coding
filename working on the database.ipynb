{
 "cells": [
  {
   "cell_type": "markdown",
   "id": "66f2580c",
   "metadata": {},
   "source": [
    "we have to build a student database wherein we will have:\n",
    "* Student_id\n",
    "* Gender\n",
    "* Dept\n",
    "* Percentage\n",
    "* final_marks\n",
    "* Backlogs"
   ]
  },
  {
   "cell_type": "code",
   "execution_count": 32,
   "id": "8b40da41",
   "metadata": {},
   "outputs": [],
   "source": [
    "Student_id=['101','102','103']\n",
    "Gender=['m','f','f']\n",
    "Dept=['cs','IT','ME']\n",
    "Percentage=[60, 73, 55]\n",
    "final_marks=[500,600,550]\n",
    "Backlogs=['B','NB','B']"
   ]
  },
  {
   "cell_type": "markdown",
   "id": "0fd0f5b2",
   "metadata": {},
   "source": [
    "print(Student_id)"
   ]
  },
  {
   "cell_type": "markdown",
   "id": "a7b3a8f7",
   "metadata": {},
   "source": [
    "If any student has received more than 70% in their sesstion , increase the total marks by 2%"
   ]
  },
  {
   "cell_type": "code",
   "execution_count": null,
   "id": "28bced6e",
   "metadata": {},
   "outputs": [],
   "source": []
  },
  {
   "cell_type": "code",
   "execution_count": 11,
   "id": "bd251831",
   "metadata": {},
   "outputs": [
    {
     "name": "stdout",
     "output_type": "stream",
     "text": [
      "marks did not change\n",
      "marks did not change\n"
     ]
    }
   ],
   "source": [
    "for i in range(len(Student_id)):\n",
    "    if Percentage[i] >  70:\n",
    "        final_marks[i] = final_marks[i] + final_marks[i]*0.02\n",
    "    else:\n",
    "        print(\"marks did not change\")\n",
    "    "
   ]
  },
  {
   "cell_type": "code",
   "execution_count": 8,
   "id": "d7e8880b",
   "metadata": {},
   "outputs": [
    {
     "name": "stdout",
     "output_type": "stream",
     "text": [
      "[60, 73, 55]\n"
     ]
    }
   ],
   "source": [
    "print(Percentage)"
   ]
  },
  {
   "cell_type": "code",
   "execution_count": 12,
   "id": "370f4fb4",
   "metadata": {},
   "outputs": [
    {
     "name": "stdout",
     "output_type": "stream",
     "text": [
      "[500, 612.0, 550]\n"
     ]
    }
   ],
   "source": [
    "print(final_marks)"
   ]
  },
  {
   "cell_type": "markdown",
   "id": "0a290ce0",
   "metadata": {},
   "source": [
    "S01 and S03 have got backlog. we need to update them."
   ]
  },
  {
   "cell_type": "code",
   "execution_count": 20,
   "id": "de175185",
   "metadata": {},
   "outputs": [],
   "source": [
    "updated_stud=['102']\n",
    "for i in range (len(Student_id)):\n",
    "    if Student_id[i] in updated_stud:\n",
    "        Backlogs[i] ='B'"
   ]
  },
  {
   "cell_type": "code",
   "execution_count": 21,
   "id": "649fbb2c",
   "metadata": {},
   "outputs": [
    {
     "name": "stdout",
     "output_type": "stream",
     "text": [
      "['B', 'B', 'B']\n"
     ]
    }
   ],
   "source": [
    "print(Backlogs)"
   ]
  },
  {
   "cell_type": "code",
   "execution_count": 25,
   "id": "5a621b1b",
   "metadata": {},
   "outputs": [
    {
     "name": "stdout",
     "output_type": "stream",
     "text": [
      "['B', 'NB', 'NB']\n"
     ]
    }
   ],
   "source": [
    "Backlogs[2]='NB'\n",
    "print(Backlogs)"
   ]
  },
  {
   "cell_type": "markdown",
   "id": "66c0aad1",
   "metadata": {},
   "source": [
    "student who has no backlog that student get higher achiever scholarship"
   ]
  },
  {
   "cell_type": "code",
   "execution_count": 23,
   "id": "e68030bd",
   "metadata": {},
   "outputs": [],
   "source": [
    "scholarship=[' no scholarship' for i in range(len(Student_id))]\n"
   ]
  },
  {
   "cell_type": "code",
   "execution_count": 24,
   "id": "ebf3f851",
   "metadata": {},
   "outputs": [
    {
     "data": {
      "text/plain": [
       "[' no scholarship', ' no scholarship', ' no scholarship']"
      ]
     },
     "execution_count": 24,
     "metadata": {},
     "output_type": "execute_result"
    }
   ],
   "source": [
    "scholarship\n"
   ]
  },
  {
   "cell_type": "code",
   "execution_count": 34,
   "id": "167b61c0",
   "metadata": {},
   "outputs": [
    {
     "name": "stdout",
     "output_type": "stream",
     "text": [
      "no schoarship were given\n",
      "high achiever schoarship awarded to 102\n",
      "no schoarship were given\n"
     ]
    }
   ],
   "source": [
    " for i in range(len(Student_id)):\n",
    "    if Dept[i] == 'IT' and final_marks[i] > 500 and Backlogs[i] == 'NB':\n",
    "        scholarship[i] = 'high achiever scholarship'\n",
    "        print(f\"high achiever schoarship awarded to {Student_id[i]}\")\n",
    "    else:\n",
    "        print(\"no schoarship were given\")\n"
   ]
  },
  {
   "cell_type": "code",
   "execution_count": 35,
   "id": "23c815b3",
   "metadata": {},
   "outputs": [
    {
     "data": {
      "text/plain": [
       "[' no scholarship', 'high achiever scholarship', ' no scholarship']"
      ]
     },
     "execution_count": 35,
     "metadata": {},
     "output_type": "execute_result"
    }
   ],
   "source": [
    "scholarship\n"
   ]
  },
  {
   "cell_type": "code",
   "execution_count": null,
   "id": "a0242543",
   "metadata": {},
   "outputs": [],
   "source": []
  }
 ],
 "metadata": {
  "kernelspec": {
   "display_name": "Python 3 (ipykernel)",
   "language": "python",
   "name": "python3"
  },
  "language_info": {
   "codemirror_mode": {
    "name": "ipython",
    "version": 3
   },
   "file_extension": ".py",
   "mimetype": "text/x-python",
   "name": "python",
   "nbconvert_exporter": "python",
   "pygments_lexer": "ipython3",
   "version": "3.9.13"
  }
 },
 "nbformat": 4,
 "nbformat_minor": 5
}
