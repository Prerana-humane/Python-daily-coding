{
 "cells": [
  {
   "cell_type": "code",
   "execution_count": 1,
   "id": "adb29c01",
   "metadata": {},
   "outputs": [],
   "source": [
    "def test():\n",
    "    pass"
   ]
  },
  {
   "cell_type": "code",
   "execution_count": 2,
   "id": "542e71d0",
   "metadata": {},
   "outputs": [
    {
     "name": "stdout",
     "output_type": "stream",
     "text": [
      "this is my 1st function\n"
     ]
    }
   ],
   "source": [
    "def test1():\n",
    "    print(\"this is my 1st function\")\n",
    "test1()"
   ]
  },
  {
   "cell_type": "code",
   "execution_count": null,
   "id": "73cf5406",
   "metadata": {},
   "outputs": [],
   "source": [
    "test() + \"sudh\" \n",
    "#it is giving error bcz string in print\n",
    "#print function always return nonetype so it will not concatinate"
   ]
  },
  {
   "cell_type": "markdown",
   "id": "77d9e772",
   "metadata": {},
   "source": [
    "* to solve this problem we use return\n",
    "* return will return any type of data as it is in the output"
   ]
  },
  {
   "cell_type": "code",
   "execution_count": 6,
   "id": "c77aad0b",
   "metadata": {},
   "outputs": [],
   "source": [
    "def test2():\n",
    "    return \"this is my 1st return\""
   ]
  },
  {
   "cell_type": "code",
   "execution_count": 7,
   "id": "c006c73c",
   "metadata": {},
   "outputs": [
    {
     "data": {
      "text/plain": [
       "'this is my 1st return'"
      ]
     },
     "execution_count": 7,
     "metadata": {},
     "output_type": "execute_result"
    }
   ],
   "source": [
    "test2()"
   ]
  },
  {
   "cell_type": "code",
   "execution_count": 9,
   "id": "c3930f66",
   "metadata": {},
   "outputs": [
    {
     "data": {
      "text/plain": [
       "'this is my 1st return HELLO'"
      ]
     },
     "execution_count": 9,
     "metadata": {},
     "output_type": "execute_result"
    }
   ],
   "source": [
    "test2() + \" HELLO\""
   ]
  },
  {
   "cell_type": "code",
   "execution_count": 10,
   "id": "80ffa70b",
   "metadata": {},
   "outputs": [],
   "source": [
    "# using return we will return any type of data\n",
    "def test3():\n",
    "    return \"hello\", 45, 89.0,[1,2,3,4]"
   ]
  },
  {
   "cell_type": "code",
   "execution_count": 11,
   "id": "575770a9",
   "metadata": {},
   "outputs": [
    {
     "data": {
      "text/plain": [
       "('hello', 45, 89.0, [1, 2, 3, 4])"
      ]
     },
     "execution_count": 11,
     "metadata": {},
     "output_type": "execute_result"
    }
   ],
   "source": [
    "test3()"
   ]
  },
  {
   "cell_type": "code",
   "execution_count": 13,
   "id": "aa0dd373",
   "metadata": {},
   "outputs": [],
   "source": [
    "#we can store each return value in variable\n",
    "a,b,c,d = test3()"
   ]
  },
  {
   "cell_type": "code",
   "execution_count": 14,
   "id": "ccebf7f1",
   "metadata": {},
   "outputs": [
    {
     "data": {
      "text/plain": [
       "'hello'"
      ]
     },
     "execution_count": 14,
     "metadata": {},
     "output_type": "execute_result"
    }
   ],
   "source": [
    "a"
   ]
  },
  {
   "cell_type": "code",
   "execution_count": 15,
   "id": "6cd41ee1",
   "metadata": {},
   "outputs": [
    {
     "data": {
      "text/plain": [
       "45"
      ]
     },
     "execution_count": 15,
     "metadata": {},
     "output_type": "execute_result"
    }
   ],
   "source": [
    "b"
   ]
  },
  {
   "cell_type": "code",
   "execution_count": 16,
   "id": "3970270c",
   "metadata": {},
   "outputs": [
    {
     "data": {
      "text/plain": [
       "89.0"
      ]
     },
     "execution_count": 16,
     "metadata": {},
     "output_type": "execute_result"
    }
   ],
   "source": [
    "c"
   ]
  },
  {
   "cell_type": "code",
   "execution_count": 17,
   "id": "b687c8cb",
   "metadata": {},
   "outputs": [
    {
     "data": {
      "text/plain": [
       "[1, 2, 3, 4]"
      ]
     },
     "execution_count": 17,
     "metadata": {},
     "output_type": "execute_result"
    }
   ],
   "source": [
    "d"
   ]
  },
  {
   "cell_type": "code",
   "execution_count": 18,
   "id": "ae4d0751",
   "metadata": {},
   "outputs": [
    {
     "data": {
      "text/plain": [
       "('hello', 45, 89.0, [1, 2, 3, 4])"
      ]
     },
     "execution_count": 18,
     "metadata": {},
     "output_type": "execute_result"
    }
   ],
   "source": [
    "a,b,c,d"
   ]
  },
  {
   "cell_type": "code",
   "execution_count": 23,
   "id": "6529ec00",
   "metadata": {},
   "outputs": [],
   "source": [
    "def test4():\n",
    "     a= 5 + 6 *7\n",
    "     return a"
   ]
  },
  {
   "cell_type": "code",
   "execution_count": 24,
   "id": "e3299e3d",
   "metadata": {},
   "outputs": [
    {
     "data": {
      "text/plain": [
       "47"
      ]
     },
     "execution_count": 24,
     "metadata": {},
     "output_type": "execute_result"
    }
   ],
   "source": [
    "test4()"
   ]
  },
  {
   "cell_type": "code",
   "execution_count": 26,
   "id": "8c571279",
   "metadata": {},
   "outputs": [
    {
     "data": {
      "text/plain": [
       "42"
      ]
     },
     "execution_count": 26,
     "metadata": {},
     "output_type": "execute_result"
    }
   ],
   "source": [
    "def test5(a,b,c):\n",
    "    d = a + b *c\n",
    "    return d\n",
    "test5(2,5,8) # if you dont give the values then it will give an error"
   ]
  },
  {
   "cell_type": "code",
   "execution_count": 28,
   "id": "f95b66bd",
   "metadata": {},
   "outputs": [],
   "source": [
    "def test6(a,b):\n",
    "    return a+b\n"
   ]
  },
  {
   "cell_type": "code",
   "execution_count": 29,
   "id": "0fe83d14",
   "metadata": {},
   "outputs": [
    {
     "data": {
      "text/plain": [
       "10"
      ]
     },
     "execution_count": 29,
     "metadata": {},
     "output_type": "execute_result"
    }
   ],
   "source": [
    "test6(3,7)"
   ]
  },
  {
   "cell_type": "code",
   "execution_count": 31,
   "id": "7ef0c506",
   "metadata": {},
   "outputs": [
    {
     "data": {
      "text/plain": [
       "'hello pree'"
      ]
     },
     "execution_count": 31,
     "metadata": {},
     "output_type": "execute_result"
    }
   ],
   "source": [
    "test6(\"hello\",\" pree\")"
   ]
  },
  {
   "cell_type": "code",
   "execution_count": 32,
   "id": "7b228080",
   "metadata": {},
   "outputs": [
    {
     "data": {
      "text/plain": [
       "[1, 2, 3, 4, 5, 6, 7]"
      ]
     },
     "execution_count": 32,
     "metadata": {},
     "output_type": "execute_result"
    }
   ],
   "source": [
    "test6([1,2,3,4], [5,6,7]) # it concanate the list"
   ]
  },
  {
   "cell_type": "code",
   "execution_count": 39,
   "id": "43dc72a8",
   "metadata": {},
   "outputs": [],
   "source": [
    "list=[1,2,3,4,\"hello\",\"world\",[5,6,7,8]]"
   ]
  },
  {
   "cell_type": "code",
   "execution_count": 40,
   "id": "4facbaf2",
   "metadata": {},
   "outputs": [],
   "source": [
    "L1 = []\n",
    "for i in list:\n",
    "    if type(i) == int or type(i) == float:\n",
    "        L1.append(i)"
   ]
  },
  {
   "cell_type": "code",
   "execution_count": 41,
   "id": "fe2228c2",
   "metadata": {},
   "outputs": [
    {
     "data": {
      "text/plain": [
       "[1, 2, 3, 4]"
      ]
     },
     "execution_count": 41,
     "metadata": {},
     "output_type": "execute_result"
    }
   ],
   "source": [
    "L1"
   ]
  },
  {
   "cell_type": "code",
   "execution_count": 42,
   "id": "829473f7",
   "metadata": {},
   "outputs": [],
   "source": [
    "#by using function\n",
    "def test7(list):\n",
    "    L1 = []\n",
    "    for i in list:\n",
    "        if type(i) == int or type(i) == float:\n",
    "            L1.append(i)\n",
    "    return L1\n",
    "    "
   ]
  },
  {
   "cell_type": "code",
   "execution_count": 44,
   "id": "aad0c28b",
   "metadata": {},
   "outputs": [
    {
     "data": {
      "text/plain": [
       "[1, 2, 3, 4]"
      ]
     },
     "execution_count": 44,
     "metadata": {},
     "output_type": "execute_result"
    }
   ],
   "source": [
    "test7(list)"
   ]
  },
  {
   "cell_type": "code",
   "execution_count": 9,
   "id": "e60bc000",
   "metadata": {},
   "outputs": [
    {
     "data": {
      "text/plain": [
       "list"
      ]
     },
     "execution_count": 9,
     "metadata": {},
     "output_type": "execute_result"
    }
   ],
   "source": [
    "list"
   ]
  },
  {
   "cell_type": "code",
   "execution_count": null,
   "id": "5fdd5bea",
   "metadata": {},
   "outputs": [],
   "source": []
  },
  {
   "cell_type": "code",
   "execution_count": 10,
   "id": "ca294ded",
   "metadata": {},
   "outputs": [
    {
     "data": {
      "text/plain": [
       "[1, 2, 3, 4, 'hello', 'world', [5, 6, 7, 8]]"
      ]
     },
     "execution_count": 10,
     "metadata": {},
     "output_type": "execute_result"
    }
   ],
   "source": [
    "list1=[1,2,3,4,\"hello\",\"world\",[5,6,7,8]]\n",
    "list1"
   ]
  },
  {
   "cell_type": "code",
   "execution_count": 11,
   "id": "c70661a1",
   "metadata": {},
   "outputs": [],
   "source": [
    "# print list inside the list\n",
    "\n",
    "def test8(list1) :\n",
    "    L1 = []\n",
    "    for i in list1:\n",
    "        if type(i) == list:\n",
    "            for j in i:\n",
    "                L1.append(j)\n",
    "        else:\n",
    "            if type(i) == int or type(i) == float:\n",
    "                L1.append(i)\n",
    "    return L1"
   ]
  },
  {
   "cell_type": "code",
   "execution_count": 13,
   "id": "fc85192d",
   "metadata": {},
   "outputs": [
    {
     "data": {
      "text/plain": [
       "[1, 2, 3, 4, 5, 6, 7, 8]"
      ]
     },
     "execution_count": 13,
     "metadata": {},
     "output_type": "execute_result"
    }
   ],
   "source": [
    "test8(list1)"
   ]
  },
  {
   "cell_type": "code",
   "execution_count": 14,
   "id": "57ce49df",
   "metadata": {},
   "outputs": [],
   "source": [
    "def test9(a,b):\n",
    "    return a+b"
   ]
  },
  {
   "cell_type": "code",
   "execution_count": 16,
   "id": "21e57a00",
   "metadata": {},
   "outputs": [],
   "source": [
    "# using Astric * we can pass n number of argument to the function \n",
    "\n",
    "def test10(*args):\n",
    "     return args   "
   ]
  },
  {
   "cell_type": "code",
   "execution_count": 17,
   "id": "8a7351c2",
   "metadata": {},
   "outputs": [
    {
     "data": {
      "text/plain": [
       "tuple"
      ]
     },
     "execution_count": 17,
     "metadata": {},
     "output_type": "execute_result"
    }
   ],
   "source": [
    "type(test10())"
   ]
  },
  {
   "cell_type": "code",
   "execution_count": 18,
   "id": "8ee823aa",
   "metadata": {},
   "outputs": [
    {
     "data": {
      "text/plain": [
       "(1, 2, 3)"
      ]
     },
     "execution_count": 18,
     "metadata": {},
     "output_type": "execute_result"
    }
   ],
   "source": [
    "test10(1,2,3)"
   ]
  },
  {
   "cell_type": "code",
   "execution_count": 19,
   "id": "42281e63",
   "metadata": {},
   "outputs": [
    {
     "data": {
      "text/plain": [
       "(1, 2, 3, 'hello', 'python', [1, 2, 3, 4, 5])"
      ]
     },
     "execution_count": 19,
     "metadata": {},
     "output_type": "execute_result"
    }
   ],
   "source": [
    "test10(1,2,3,'hello','python',[1,2,3,4,5])"
   ]
  },
  {
   "cell_type": "code",
   "execution_count": 20,
   "id": "01fc37eb",
   "metadata": {},
   "outputs": [
    {
     "data": {
      "text/plain": [
       "((1, 2, 3), 25)"
      ]
     },
     "execution_count": 20,
     "metadata": {},
     "output_type": "execute_result"
    }
   ],
   "source": [
    "def test11(*args , a):\n",
    "    return args , a\n",
    "test11(1,2,3 , a = 25)\n"
   ]
  },
  {
   "cell_type": "code",
   "execution_count": 21,
   "id": "25bc7fcd",
   "metadata": {},
   "outputs": [],
   "source": [
    "# if user want data in keyword format\n",
    "def test12(**kwargs):\n",
    "    return kwargs"
   ]
  },
  {
   "cell_type": "code",
   "execution_count": 22,
   "id": "d4cff5bb",
   "metadata": {},
   "outputs": [
    {
     "data": {
      "text/plain": [
       "{}"
      ]
     },
     "execution_count": 22,
     "metadata": {},
     "output_type": "execute_result"
    }
   ],
   "source": [
    "test12()"
   ]
  },
  {
   "cell_type": "code",
   "execution_count": 23,
   "id": "bf6a5c7c",
   "metadata": {},
   "outputs": [
    {
     "data": {
      "text/plain": [
       "dict"
      ]
     },
     "execution_count": 23,
     "metadata": {},
     "output_type": "execute_result"
    }
   ],
   "source": [
    "type(test12())"
   ]
  },
  {
   "cell_type": "code",
   "execution_count": 24,
   "id": "8fca4f79",
   "metadata": {},
   "outputs": [
    {
     "data": {
      "text/plain": [
       "{'a': 34.5, 'b': 'hello', 'c': [1, 2]}"
      ]
     },
     "execution_count": 24,
     "metadata": {},
     "output_type": "execute_result"
    }
   ],
   "source": [
    "#need to insert data in key value pair\n",
    "\n",
    "test12(a= 34.5,b=\"hello\",c=[1,2])"
   ]
  },
  {
   "cell_type": "code",
   "execution_count": null,
   "id": "9e3e602b",
   "metadata": {},
   "outputs": [],
   "source": []
  }
 ],
 "metadata": {
  "kernelspec": {
   "display_name": "Python 3 (ipykernel)",
   "language": "python",
   "name": "python3"
  },
  "language_info": {
   "codemirror_mode": {
    "name": "ipython",
    "version": 3
   },
   "file_extension": ".py",
   "mimetype": "text/x-python",
   "name": "python",
   "nbconvert_exporter": "python",
   "pygments_lexer": "ipython3",
   "version": "3.9.13"
  }
 },
 "nbformat": 4,
 "nbformat_minor": 5
}
